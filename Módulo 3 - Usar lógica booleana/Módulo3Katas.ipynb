{
 "cells": [
  {
   "cell_type": "markdown",
   "metadata": {},
   "source": [
    "## Ejercicio - Escribir declaraciones if, else, y elif\n",
    "Solo para practicar los conceptos del módulo"
   ]
  },
  {
   "cell_type": "markdown",
   "metadata": {},
   "source": [
    "<h3>Ejercicio 1"
   ]
  },
  {
   "cell_type": "code",
   "execution_count": 2,
   "metadata": {},
   "outputs": [
    {
     "name": "stdout",
     "output_type": "stream",
     "text": [
      "¡Cuidado!\n"
     ]
    }
   ],
   "source": [
    "# Añadir el código necesario para crear una variable que guarde la velocidad del asteroide.\n",
    "# Escribe una expresión de prueba para calcular si necesita una advertencia.\n",
    "# Agregue las instrucciones que se ejecutarán si la expresión de prueba es true o false.\n",
    "asteroide  = 49\n",
    "if asteroide  > 25:\n",
    "    print(\"¡Cuidado!\")\n",
    "else:\n",
    "    print(\"Todo bien\") \n"
   ]
  },
  {
   "cell_type": "markdown",
   "metadata": {},
   "source": [
    "<h3>Ejercicio 2"
   ]
  },
  {
   "cell_type": "code",
   "execution_count": 6,
   "metadata": {},
   "outputs": [
    {
     "name": "stdout",
     "output_type": "stream",
     "text": [
      "¡Cuidado, el fin se acerca!\n"
     ]
    }
   ],
   "source": [
    "# Agrega el código para crear una variable para un asteroide que viaja a 19 km/s\n",
    "# Escribe varias expresiones de prueba para determinar si puedes ver el rayo de luz desde la tierra\n",
    "# Agrega las instrucciones que se ejecutarán si las expresiones de prueba son True o False\n",
    "\n",
    "asteroide = 19\n",
    "if asteroide  > 25:\n",
    "    print(\"¡Cuidado, el fin se acerca!\")\n",
    "elif asteroide >= 20:\n",
    "    print(\"mira el cielo! \")\n",
    "else:\n",
    "    print(\"Nada que reportar, buen día\")\n",
    "\n",
    "\n",
    "\n",
    "    "
   ]
  },
  {
   "cell_type": "markdown",
   "metadata": {},
   "source": [
    "<h3>Ejercicio 3"
   ]
  },
  {
   "cell_type": "code",
   "execution_count": 17,
   "metadata": {},
   "outputs": [
    {
     "name": "stdout",
     "output_type": "stream",
     "text": [
      "Nada que reportar, buen día\n"
     ]
    }
   ],
   "source": [
    "# Agrega el código para crear nuevas variables para la velocidad y el tamaño del asteroide\n",
    "# Para probar el código, prueba con varias velocidades y tamaños\n",
    "# Escribe varias expresiones de prueba o combinaciones de expresiones de prueba para determinar qué mensaje se debe enviar\n",
    "\n",
    "velocidad = 18\n",
    "tamaño = 25\n",
    "if velocidad > 25 and tamaño >24:\n",
    "    print(\"Ciudado , el fin esta cerca señores!\")\n",
    "elif velocidad >=20:\n",
    "    print(\"mira el cielo! \")\n",
    "elif tamaño < 25:\n",
    "    print(\"Nada que reportar, buen día\")\n",
    "else:\n",
    "    print(\"Nada que reportar, buen día\")\n"
   ]
  }
 ],
 "metadata": {
  "interpreter": {
   "hash": "cf068683b056c1ba7ee38a68fd3721ad5eee9fd9beadcd4e91b3d72af646e0dc"
  },
  "kernelspec": {
   "display_name": "Python 3.10.2 64-bit",
   "language": "python",
   "name": "python3"
  },
  "language_info": {
   "codemirror_mode": {
    "name": "ipython",
    "version": 3
   },
   "file_extension": ".py",
   "mimetype": "text/x-python",
   "name": "python",
   "nbconvert_exporter": "python",
   "pygments_lexer": "ipython3",
   "version": "3.10.2"
  },
  "orig_nbformat": 4
 },
 "nbformat": 4,
 "nbformat_minor": 2
}
